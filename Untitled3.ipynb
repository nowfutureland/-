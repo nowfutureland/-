{
  "nbformat": 4,
  "nbformat_minor": 0,
  "metadata": {
    "colab": {
      "provenance": [],
      "authorship_tag": "ABX9TyMHRqh0cxzXyvq0y4d3opKd",
      "include_colab_link": true
    },
    "kernelspec": {
      "name": "python3",
      "display_name": "Python 3"
    },
    "language_info": {
      "name": "python"
    }
  },
  "cells": [
    {
      "cell_type": "markdown",
      "metadata": {
        "id": "view-in-github",
        "colab_type": "text"
      },
      "source": [
        "<a href=\"https://colab.research.google.com/github/nowfutureland/-/blob/main/Untitled3.ipynb\" target=\"_parent\"><img src=\"https://colab.research.google.com/assets/colab-badge.svg\" alt=\"Open In Colab\"/></a>"
      ]
    },
    {
      "cell_type": "code",
      "execution_count": 16,
      "metadata": {
        "colab": {
          "base_uri": "https://localhost:8080/"
        },
        "id": "Br5kwlBq766x",
        "outputId": "6c4f371b-052f-4c72-9ef3-b66bf19890f7"
      },
      "outputs": [
        {
          "output_type": "stream",
          "name": "stdout",
          "text": [
            "first number:5\n",
            "+,-,/,*:+\n",
            "second number:4\n",
            "5 + 4 = 9\n"
          ]
        }
      ],
      "source": [
        "number1 = int(input('first number:'))      #피연산를 입력 받는다.\n",
        "n = input(\"+,-,/,*:\")          #연산자를 입력 받는다.\n",
        "number2 = int(input('second number:'))     #두번째 피연산를 입력 받는다.\n",
        "\n",
        "if( n == '+') :       #만약에 n이 '+'이면 피연산자 두개를 더한다.\n",
        "  print(number1 , n, number2,'=',(number1+number2))  #number1+number2 출력한다.\n",
        "elif(n == '-'):       #만약에 n이 '-'이면 피연자 두개를 뺀다.\n",
        "  print(number1 , n, number2,'=',(number1-number2))  #number1-number2 출력한다.\n",
        "elif(n == '/'):      #만약에 n이 '/'이면 피연자 두개를 나눈다.\n",
        "  print(number1 , n, number2,'=',(number1/ number2))\n",
        "elif (n == '*'):     #만약에 n이 '*'이면 피연자 두개를 곱한다.\n",
        "  print(number1 , n, number2,'=',(number1*number2))  #number1*number2 출력한다.\n",
        "else:\n",
        "  print('연산자 입력오류') #만약에 n이외의 연산자를 쓰면 오류라고 출력한다.\n",
        "\n"
      ]
    }
  ]
}