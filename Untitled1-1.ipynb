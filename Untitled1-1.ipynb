{
  "nbformat": 4,
  "nbformat_minor": 0,
  "metadata": {
    "colab": {
      "provenance": [],
      "authorship_tag": "ABX9TyNYEtzGAKD7MgFnlXvk+iUO",
      "include_colab_link": true
    },
    "kernelspec": {
      "name": "python3",
      "display_name": "Python 3"
    },
    "language_info": {
      "name": "python"
    }
  },
  "cells": [
    {
      "cell_type": "markdown",
      "metadata": {
        "id": "view-in-github",
        "colab_type": "text"
      },
      "source": [
        "<a href=\"https://colab.research.google.com/github/nowfutureland/-/blob/main/Untitled1.ipynb\" target=\"_parent\"><img src=\"https://colab.research.google.com/assets/colab-badge.svg\" alt=\"Open In Colab\"/></a>"
      ]
    },
    {
      "cell_type": "code",
      "execution_count": 16,
      "metadata": {
        "colab": {
          "base_uri": "https://localhost:8080/"
        },
        "id": "Br5kwlBq766x",
        "outputId": "6c4f371b-052f-4c72-9ef3-b66bf19890f7"
      },
      "outputs": [
        {
          "output_type": "stream",
          "name": "stdout",
          "text": [
            "first number:5\n",
            "+,-,/,*:+\n",
            "second number:4\n",
            "5 + 4 = 9\n"
          ]
        }
      ],
      "source": [
        "\n",
        "number1 = int(input('first number:'))     \n",
        "n = input(\"+,-,/,*:\")         \n",
        "number2 = int(input('second number:'))    \n",
        "\n",
        "if( n == '+') :       \n",
        "  print(number1 , n, number2,'=',(number1+number2))  \n",
        "elif(n == '-'):      \n",
        "  print(number1 , n, number2,'=',(number1-number2))  \n",
        "elif(n == '/'):      \n",
        "  print(number1 , n, number2,'=',(number1/ number2))\n",
        "elif (n == '*'):    \n",
        "  print(number1 , n, number2,'=',(number1*number2)) \n",
        "else:\n",
        "  print('연산자 입력오류') \n",
        "\n",
        "\n",
        "\n"
      ]
    }
  ]
}
